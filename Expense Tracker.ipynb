{
 "cells": [
  {
   "cell_type": "code",
   "execution_count": 1,
   "id": "cb6aefa2-30fb-40c1-993b-602896fedb1b",
   "metadata": {},
   "outputs": [],
   "source": [
    "# Initialize an empty dictionary to store expenses\n",
    "expenses = {}\n"
   ]
  },
  {
   "cell_type": "code",
   "execution_count": 2,
   "id": "fae180ab-96f3-4301-969b-e59027a33b37",
   "metadata": {},
   "outputs": [],
   "source": [
    "def add_expense():\n",
    "    category = input(\"Enter category (e.g., Food, Transport, etc.): \")\n",
    "    amount = float(input(\"Enter amount: \"))\n",
    "    if category in expenses:\n",
    "        expenses[category] += amount\n",
    "    else:\n",
    "        expenses[category] = amount\n",
    "    print(f\"Added {amount} to {category}.\")\n"
   ]
  },
  {
   "cell_type": "code",
   "execution_count": 3,
   "id": "9410f1c9-0480-4f74-803b-1843103224c1",
   "metadata": {},
   "outputs": [],
   "source": [
    "def view_expenses():\n",
    "    if not expenses:\n",
    "        print(\"No expenses recorded yet.\")\n",
    "    else:\n",
    "        print(\"\\nExpenses:\")\n",
    "        for category, amount in expenses.items():\n",
    "            print(f\"{category}: ${amount:.2f}\")\n",
    "        print(f\"Total: ${sum(expenses.values()):.2f}\\n\")\n"
   ]
  },
  {
   "cell_type": "code",
   "execution_count": 4,
   "id": "047aac78-5209-48fa-a0d5-ee6846d2498f",
   "metadata": {},
   "outputs": [],
   "source": [
    "def delete_expense():\n",
    "    category = input(\"Enter category to delete: \")\n",
    "    if category in expenses:\n",
    "        del expenses[category]\n",
    "        print(f\"Deleted expenses for category: {category}.\")\n",
    "    else:\n",
    "        print(\"Category not found.\")\n"
   ]
  },
  {
   "cell_type": "code",
   "execution_count": 5,
   "id": "eb2f7419-fa40-4e35-a519-f26744e71ad2",
   "metadata": {},
   "outputs": [
    {
     "name": "stdout",
     "output_type": "stream",
     "text": [
      "\n",
      "Expense Tracker\n",
      "1. Add Expense\n",
      "2. View Expenses\n",
      "3. Delete Expense\n",
      "4. Exit\n"
     ]
    },
    {
     "name": "stdin",
     "output_type": "stream",
     "text": [
      "Choose an option:  1\n",
      "Enter category (e.g., Food, Transport, etc.):  food\n",
      "Enter amount:  5\n"
     ]
    },
    {
     "name": "stdout",
     "output_type": "stream",
     "text": [
      "Added 5.0 to food.\n",
      "\n",
      "Expense Tracker\n",
      "1. Add Expense\n",
      "2. View Expenses\n",
      "3. Delete Expense\n",
      "4. Exit\n"
     ]
    },
    {
     "name": "stdin",
     "output_type": "stream",
     "text": [
      "Choose an option:  2\n"
     ]
    },
    {
     "name": "stdout",
     "output_type": "stream",
     "text": [
      "\n",
      "Expenses:\n",
      "food: $5.00\n",
      "Total: $5.00\n",
      "\n",
      "\n",
      "Expense Tracker\n",
      "1. Add Expense\n",
      "2. View Expenses\n",
      "3. Delete Expense\n",
      "4. Exit\n"
     ]
    },
    {
     "name": "stdin",
     "output_type": "stream",
     "text": [
      "Choose an option:  4\n"
     ]
    },
    {
     "name": "stdout",
     "output_type": "stream",
     "text": [
      "Exiting the Expense Tracker. Goodbye!\n"
     ]
    }
   ],
   "source": [
    "def main_menu():\n",
    "    while True:\n",
    "        print(\"\\nExpense Tracker\")\n",
    "        print(\"1. Add Expense\")\n",
    "        print(\"2. View Expenses\")\n",
    "        print(\"3. Delete Expense\")\n",
    "        print(\"4. Exit\")\n",
    "        \n",
    "        choice = input(\"Choose an option: \")\n",
    "        \n",
    "        if choice == '1':\n",
    "            add_expense()\n",
    "        elif choice == '2':\n",
    "            view_expenses()\n",
    "        elif choice == '3':\n",
    "            delete_expense()\n",
    "        elif choice == '4':\n",
    "            print(\"Exiting the Expense Tracker. Goodbye!\")\n",
    "            break\n",
    "        else:\n",
    "            print(\"Invalid choice. Please try again.\")\n",
    "\n",
    "# Run the program\n",
    "main_menu()\n"
   ]
  },
  {
   "cell_type": "code",
   "execution_count": null,
   "id": "74feec17-dba3-4e88-a21f-539584eb0360",
   "metadata": {},
   "outputs": [],
   "source": []
  }
 ],
 "metadata": {
  "kernelspec": {
   "display_name": "Python 3 (ipykernel)",
   "language": "python",
   "name": "python3"
  },
  "language_info": {
   "codemirror_mode": {
    "name": "ipython",
    "version": 3
   },
   "file_extension": ".py",
   "mimetype": "text/x-python",
   "name": "python",
   "nbconvert_exporter": "python",
   "pygments_lexer": "ipython3",
   "version": "3.13.1"
  }
 },
 "nbformat": 4,
 "nbformat_minor": 5
}
