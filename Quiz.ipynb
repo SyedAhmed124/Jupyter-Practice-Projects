{
 "cells": [
  {
   "cell_type": "code",
   "execution_count": 1,
   "id": "5908dea9-c3d5-41c2-a468-87b1cddcc3d1",
   "metadata": {},
   "outputs": [],
   "source": [
    "# A dictionary to store questions and their options/answers\n",
    "quiz = {\n",
    "    \"What is the capital of France?\": {\n",
    "        \"options\": [\"A) Berlin\", \"B) Paris\", \"C) Madrid\", \"D) Rome\"],\n",
    "        \"answer\": \"B\"\n",
    "    },\n",
    "    \"Which planet is known as the Red Planet?\": {\n",
    "        \"options\": [\"A) Earth\", \"B) Venus\", \"C) Mars\", \"D) Jupiter\"],\n",
    "        \"answer\": \"C\"\n",
    "    },\n",
    "    \"What is the largest ocean on Earth?\": {\n",
    "        \"options\": [\"A) Atlantic\", \"B) Indian\", \"C) Arctic\", \"D) Pacific\"],\n",
    "        \"answer\": \"D\"\n",
    "    },\n",
    "    \"Who wrote 'Hamlet'?\": {\n",
    "        \"options\": [\"A) Charles Dickens\", \"B) William Shakespeare\", \"C) J.K. Rowling\", \"D) Mark Twain\"],\n",
    "        \"answer\": \"B\"\n",
    "    },\n",
    "    \"What is the square root of 64?\": {\n",
    "        \"options\": [\"A) 6\", \"B) 8\", \"C) 10\", \"D) 12\"],\n",
    "        \"answer\": \"B\"\n",
    "    }\n",
    "}\n"
   ]
  },
  {
   "cell_type": "code",
   "execution_count": 2,
   "id": "91a032be-aad8-461d-9ffe-dbe93f3acffe",
   "metadata": {},
   "outputs": [],
   "source": [
    "def conduct_quiz():\n",
    "    score = 0\n",
    "    print(\"Welcome to the Quiz Game!\\n\")\n",
    "    \n",
    "    for question, details in quiz.items():\n",
    "        print(question)\n",
    "        for option in details[\"options\"]:\n",
    "            print(option)\n",
    "        \n",
    "        user_answer = input(\"\\nYour answer (A, B, C, D): \").strip().upper()\n",
    "        \n",
    "        if user_answer == details[\"answer\"]:\n",
    "            print(\"Correct!\\n\")\n",
    "            score += 1\n",
    "        else:\n",
    "            print(f\"Wrong! The correct answer was {details['answer']}.\\n\")\n",
    "    \n",
    "    print(f\"Quiz Over! Your final score is {score}/{len(quiz)}.\\n\")\n"
   ]
  },
  {
   "cell_type": "code",
   "execution_count": 3,
   "id": "319e36c0-9fa8-4077-af64-cff516ea0239",
   "metadata": {},
   "outputs": [],
   "source": [
    "def main():\n",
    "    while True:\n",
    "        print(\"\\nQuiz Game\")\n",
    "        print(\"1. Start Quiz\")\n",
    "        print(\"2. Exit\")\n",
    "        \n",
    "        choice = input(\"Choose an option: \").strip()\n",
    "        \n",
    "        if choice == '1':\n",
    "            conduct_quiz()\n",
    "        elif choice == '2':\n",
    "            print(\"Thank you for playing the Quiz Game! Goodbye!\")\n",
    "            break\n",
    "        else:\n",
    "            print(\"Invalid choice. Please try again.\")\n"
   ]
  },
  {
   "cell_type": "code",
   "execution_count": null,
   "id": "8fcc4f34-b5b9-4bf3-90af-e4657c43c467",
   "metadata": {},
   "outputs": [
    {
     "name": "stdout",
     "output_type": "stream",
     "text": [
      "\n",
      "Quiz Game\n",
      "1. Start Quiz\n",
      "2. Exit\n"
     ]
    },
    {
     "name": "stdin",
     "output_type": "stream",
     "text": [
      "Choose an option:  1\n"
     ]
    },
    {
     "name": "stdout",
     "output_type": "stream",
     "text": [
      "Welcome to the Quiz Game!\n",
      "\n",
      "What is the capital of France?\n",
      "A) Berlin\n",
      "B) Paris\n",
      "C) Madrid\n",
      "D) Rome\n"
     ]
    },
    {
     "name": "stdin",
     "output_type": "stream",
     "text": [
      "\n",
      "Your answer (A, B, C, D):  b\n"
     ]
    },
    {
     "name": "stdout",
     "output_type": "stream",
     "text": [
      "Correct!\n",
      "\n",
      "Which planet is known as the Red Planet?\n",
      "A) Earth\n",
      "B) Venus\n",
      "C) Mars\n",
      "D) Jupiter\n"
     ]
    },
    {
     "name": "stdin",
     "output_type": "stream",
     "text": [
      "\n",
      "Your answer (A, B, C, D):  c\n"
     ]
    },
    {
     "name": "stdout",
     "output_type": "stream",
     "text": [
      "Correct!\n",
      "\n",
      "What is the largest ocean on Earth?\n",
      "A) Atlantic\n",
      "B) Indian\n",
      "C) Arctic\n",
      "D) Pacific\n"
     ]
    },
    {
     "name": "stdin",
     "output_type": "stream",
     "text": [
      "\n",
      "Your answer (A, B, C, D):  b\n"
     ]
    },
    {
     "name": "stdout",
     "output_type": "stream",
     "text": [
      "Wrong! The correct answer was D.\n",
      "\n",
      "Who wrote 'Hamlet'?\n",
      "A) Charles Dickens\n",
      "B) William Shakespeare\n",
      "C) J.K. Rowling\n",
      "D) Mark Twain\n"
     ]
    },
    {
     "name": "stdin",
     "output_type": "stream",
     "text": [
      "\n",
      "Your answer (A, B, C, D):  b\n"
     ]
    },
    {
     "name": "stdout",
     "output_type": "stream",
     "text": [
      "Correct!\n",
      "\n",
      "What is the square root of 64?\n",
      "A) 6\n",
      "B) 8\n",
      "C) 10\n",
      "D) 12\n"
     ]
    },
    {
     "name": "stdin",
     "output_type": "stream",
     "text": [
      "\n",
      "Your answer (A, B, C, D):  b\n"
     ]
    },
    {
     "name": "stdout",
     "output_type": "stream",
     "text": [
      "Correct!\n",
      "\n",
      "Quiz Over! Your final score is 4/5.\n",
      "\n",
      "\n",
      "Quiz Game\n",
      "1. Start Quiz\n",
      "2. Exit\n"
     ]
    }
   ],
   "source": [
    "main()\n"
   ]
  },
  {
   "cell_type": "code",
   "execution_count": null,
   "id": "0849a298-f85c-44ea-8815-b0261b93aaef",
   "metadata": {},
   "outputs": [],
   "source": []
  }
 ],
 "metadata": {
  "kernelspec": {
   "display_name": "Python 3 (ipykernel)",
   "language": "python",
   "name": "python3"
  },
  "language_info": {
   "codemirror_mode": {
    "name": "ipython",
    "version": 3
   },
   "file_extension": ".py",
   "mimetype": "text/x-python",
   "name": "python",
   "nbconvert_exporter": "python",
   "pygments_lexer": "ipython3",
   "version": "3.13.1"
  }
 },
 "nbformat": 4,
 "nbformat_minor": 5
}
